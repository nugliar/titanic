{
 "cells": [
  {
   "cell_type": "code",
   "execution_count": 1,
   "metadata": {},
   "outputs": [],
   "source": [
    "import sys\n",
    "import tensorflow as tf\n",
    "import pandas as pd\n",
    "import numpy as np\n",
    "import math\n",
    "import matplotlib.pyplot as plt\n",
    "import itertools\n",
    "import shutil as sh\n",
    "from collections import defaultdict\n",
    "\n",
    "tf.logging.set_verbosity(tf.logging.ERROR)"
   ]
  },
  {
   "cell_type": "markdown",
   "metadata": {},
   "source": [
    "## Get dataframes"
   ]
  },
  {
   "cell_type": "code",
   "execution_count": 2,
   "metadata": {},
   "outputs": [],
   "source": [
    "train_data = pd.read_csv('train.csv').drop(columns='PassengerId')\n",
    "test_data = pd.read_csv('test.csv').drop(columns='PassengerId')"
   ]
  },
  {
   "cell_type": "code",
   "execution_count": 3,
   "metadata": {},
   "outputs": [
    {
     "data": {
      "text/html": [
       "<div>\n",
       "<style scoped>\n",
       "    .dataframe tbody tr th:only-of-type {\n",
       "        vertical-align: middle;\n",
       "    }\n",
       "\n",
       "    .dataframe tbody tr th {\n",
       "        vertical-align: top;\n",
       "    }\n",
       "\n",
       "    .dataframe thead th {\n",
       "        text-align: right;\n",
       "    }\n",
       "</style>\n",
       "<table border=\"1\" class=\"dataframe\">\n",
       "  <thead>\n",
       "    <tr style=\"text-align: right;\">\n",
       "      <th></th>\n",
       "      <th>Survived</th>\n",
       "      <th>Pclass</th>\n",
       "      <th>Name</th>\n",
       "      <th>Sex</th>\n",
       "      <th>Age</th>\n",
       "      <th>SibSp</th>\n",
       "      <th>Parch</th>\n",
       "      <th>Ticket</th>\n",
       "      <th>Fare</th>\n",
       "      <th>Cabin</th>\n",
       "      <th>Embarked</th>\n",
       "    </tr>\n",
       "  </thead>\n",
       "  <tbody>\n",
       "    <tr>\n",
       "      <th>0</th>\n",
       "      <td>0</td>\n",
       "      <td>3</td>\n",
       "      <td>Braund, Mr. Owen Harris</td>\n",
       "      <td>male</td>\n",
       "      <td>22.0</td>\n",
       "      <td>1</td>\n",
       "      <td>0</td>\n",
       "      <td>A/5 21171</td>\n",
       "      <td>7.2500</td>\n",
       "      <td>NaN</td>\n",
       "      <td>S</td>\n",
       "    </tr>\n",
       "    <tr>\n",
       "      <th>1</th>\n",
       "      <td>1</td>\n",
       "      <td>1</td>\n",
       "      <td>Cumings, Mrs. John Bradley (Florence Briggs Th...</td>\n",
       "      <td>female</td>\n",
       "      <td>38.0</td>\n",
       "      <td>1</td>\n",
       "      <td>0</td>\n",
       "      <td>PC 17599</td>\n",
       "      <td>71.2833</td>\n",
       "      <td>C85</td>\n",
       "      <td>C</td>\n",
       "    </tr>\n",
       "    <tr>\n",
       "      <th>2</th>\n",
       "      <td>1</td>\n",
       "      <td>3</td>\n",
       "      <td>Heikkinen, Miss. Laina</td>\n",
       "      <td>female</td>\n",
       "      <td>26.0</td>\n",
       "      <td>0</td>\n",
       "      <td>0</td>\n",
       "      <td>STON/O2. 3101282</td>\n",
       "      <td>7.9250</td>\n",
       "      <td>NaN</td>\n",
       "      <td>S</td>\n",
       "    </tr>\n",
       "    <tr>\n",
       "      <th>3</th>\n",
       "      <td>1</td>\n",
       "      <td>1</td>\n",
       "      <td>Futrelle, Mrs. Jacques Heath (Lily May Peel)</td>\n",
       "      <td>female</td>\n",
       "      <td>35.0</td>\n",
       "      <td>1</td>\n",
       "      <td>0</td>\n",
       "      <td>113803</td>\n",
       "      <td>53.1000</td>\n",
       "      <td>C123</td>\n",
       "      <td>S</td>\n",
       "    </tr>\n",
       "    <tr>\n",
       "      <th>4</th>\n",
       "      <td>0</td>\n",
       "      <td>3</td>\n",
       "      <td>Allen, Mr. William Henry</td>\n",
       "      <td>male</td>\n",
       "      <td>35.0</td>\n",
       "      <td>0</td>\n",
       "      <td>0</td>\n",
       "      <td>373450</td>\n",
       "      <td>8.0500</td>\n",
       "      <td>NaN</td>\n",
       "      <td>S</td>\n",
       "    </tr>\n",
       "    <tr>\n",
       "      <th>5</th>\n",
       "      <td>0</td>\n",
       "      <td>3</td>\n",
       "      <td>Moran, Mr. James</td>\n",
       "      <td>male</td>\n",
       "      <td>NaN</td>\n",
       "      <td>0</td>\n",
       "      <td>0</td>\n",
       "      <td>330877</td>\n",
       "      <td>8.4583</td>\n",
       "      <td>NaN</td>\n",
       "      <td>Q</td>\n",
       "    </tr>\n",
       "    <tr>\n",
       "      <th>6</th>\n",
       "      <td>0</td>\n",
       "      <td>1</td>\n",
       "      <td>McCarthy, Mr. Timothy J</td>\n",
       "      <td>male</td>\n",
       "      <td>54.0</td>\n",
       "      <td>0</td>\n",
       "      <td>0</td>\n",
       "      <td>17463</td>\n",
       "      <td>51.8625</td>\n",
       "      <td>E46</td>\n",
       "      <td>S</td>\n",
       "    </tr>\n",
       "    <tr>\n",
       "      <th>7</th>\n",
       "      <td>0</td>\n",
       "      <td>3</td>\n",
       "      <td>Palsson, Master. Gosta Leonard</td>\n",
       "      <td>male</td>\n",
       "      <td>2.0</td>\n",
       "      <td>3</td>\n",
       "      <td>1</td>\n",
       "      <td>349909</td>\n",
       "      <td>21.0750</td>\n",
       "      <td>NaN</td>\n",
       "      <td>S</td>\n",
       "    </tr>\n",
       "    <tr>\n",
       "      <th>8</th>\n",
       "      <td>1</td>\n",
       "      <td>3</td>\n",
       "      <td>Johnson, Mrs. Oscar W (Elisabeth Vilhelmina Berg)</td>\n",
       "      <td>female</td>\n",
       "      <td>27.0</td>\n",
       "      <td>0</td>\n",
       "      <td>2</td>\n",
       "      <td>347742</td>\n",
       "      <td>11.1333</td>\n",
       "      <td>NaN</td>\n",
       "      <td>S</td>\n",
       "    </tr>\n",
       "    <tr>\n",
       "      <th>9</th>\n",
       "      <td>1</td>\n",
       "      <td>2</td>\n",
       "      <td>Nasser, Mrs. Nicholas (Adele Achem)</td>\n",
       "      <td>female</td>\n",
       "      <td>14.0</td>\n",
       "      <td>1</td>\n",
       "      <td>0</td>\n",
       "      <td>237736</td>\n",
       "      <td>30.0708</td>\n",
       "      <td>NaN</td>\n",
       "      <td>C</td>\n",
       "    </tr>\n",
       "  </tbody>\n",
       "</table>\n",
       "</div>"
      ],
      "text/plain": [
       "   Survived  Pclass                                               Name  \\\n",
       "0         0       3                            Braund, Mr. Owen Harris   \n",
       "1         1       1  Cumings, Mrs. John Bradley (Florence Briggs Th...   \n",
       "2         1       3                             Heikkinen, Miss. Laina   \n",
       "3         1       1       Futrelle, Mrs. Jacques Heath (Lily May Peel)   \n",
       "4         0       3                           Allen, Mr. William Henry   \n",
       "5         0       3                                   Moran, Mr. James   \n",
       "6         0       1                            McCarthy, Mr. Timothy J   \n",
       "7         0       3                     Palsson, Master. Gosta Leonard   \n",
       "8         1       3  Johnson, Mrs. Oscar W (Elisabeth Vilhelmina Berg)   \n",
       "9         1       2                Nasser, Mrs. Nicholas (Adele Achem)   \n",
       "\n",
       "      Sex   Age  SibSp  Parch            Ticket     Fare Cabin Embarked  \n",
       "0    male  22.0      1      0         A/5 21171   7.2500   NaN        S  \n",
       "1  female  38.0      1      0          PC 17599  71.2833   C85        C  \n",
       "2  female  26.0      0      0  STON/O2. 3101282   7.9250   NaN        S  \n",
       "3  female  35.0      1      0            113803  53.1000  C123        S  \n",
       "4    male  35.0      0      0            373450   8.0500   NaN        S  \n",
       "5    male   NaN      0      0            330877   8.4583   NaN        Q  \n",
       "6    male  54.0      0      0             17463  51.8625   E46        S  \n",
       "7    male   2.0      3      1            349909  21.0750   NaN        S  \n",
       "8  female  27.0      0      2            347742  11.1333   NaN        S  \n",
       "9  female  14.0      1      0            237736  30.0708   NaN        C  "
      ]
     },
     "execution_count": 3,
     "metadata": {},
     "output_type": "execute_result"
    }
   ],
   "source": [
    "train_data.head(10)"
   ]
  },
  {
   "cell_type": "markdown",
   "metadata": {},
   "source": [
    "## Create 'married' columns depending on name formating"
   ]
  },
  {
   "cell_type": "markdown",
   "metadata": {},
   "source": [
    "#### Name prefixes"
   ]
  },
  {
   "cell_type": "code",
   "execution_count": 4,
   "metadata": {},
   "outputs": [],
   "source": [
    "train_data['Married_female'] = train_data['Name'].apply(lambda x: 1 if x.find('Mrs') != -1 else 0)\n",
    "test_data['Married_female'] = test_data['Name'].apply(lambda x: 1 if x.find('Mrs') != -1 else 0)"
   ]
  },
  {
   "cell_type": "code",
   "execution_count": 5,
   "metadata": {},
   "outputs": [
    {
     "name": "stdout",
     "output_type": "stream",
     "text": [
      "McCarthy, Mr. Timothy J\n",
      "Fynney, Mr. Joseph J\n",
      "Davies, Mr. Alfred J\n",
      "Knight, Mr. Robert J\n",
      "Lesurer, Mr. Gustave J\n",
      "Moran, Mr. Daniel J\n",
      "Kilgannon, Mr. Thomas J\n"
     ]
    }
   ],
   "source": [
    "for i in range(len(train_data)):\n",
    "    name = train_data['Name'][i]\n",
    "    if name[-1:].find('J') != -1:\n",
    "        print(name)"
   ]
  },
  {
   "cell_type": "code",
   "execution_count": 6,
   "metadata": {},
   "outputs": [
    {
     "name": "stdout",
     "output_type": "stream",
     "text": [
      "Hood, Mr. Ambrose Jr\n",
      "Johnson, Mr. William Cahoone Jr\n",
      "Sage, Mr. George John Jr\n",
      "Elias, Mr. Joseph Jr\n",
      "Davies, Master. John Morgan Jr\n",
      "Thayer, Mr. John Borland Jr\n",
      "Kimball, Mr. Edwin Nelson Jr\n",
      "Andrews, Mr. Thomas Jr\n",
      "Potter, Mrs. Thomas Jr (Lily Alexenia Wilson)\n",
      "Sutehall, Mr. Henry Jr\n"
     ]
    }
   ],
   "source": [
    "for name in train_data['Name']:\n",
    "    if name.find('Jr') >= 0:\n",
    "        print(name)"
   ]
  },
  {
   "cell_type": "markdown",
   "metadata": {},
   "source": [
    "#### Get lists of married males"
   ]
  },
  {
   "cell_type": "code",
   "execution_count": 7,
   "metadata": {},
   "outputs": [],
   "source": [
    "married_males_train = []\n",
    "\n",
    "for text in train_data['Name']:\n",
    "    if text.find('Mrs.') < 0:\n",
    "        continue\n",
    "    words_list = text.split(', Mrs.')\n",
    "    surname = words_list[0]\n",
    "    second_word = words_list[1]\n",
    "    words_list = second_word.split('(')\n",
    "    name = words_list[0]\n",
    "    if name == ' ':\n",
    "        continue\n",
    "    name = name.strip()\n",
    "    surname = surname.strip()\n",
    "    married_males_train.append(surname + ', Mr. ' + name)"
   ]
  },
  {
   "cell_type": "code",
   "execution_count": 8,
   "metadata": {},
   "outputs": [],
   "source": [
    "married_males_test = []\n",
    "\n",
    "for text in test_data['Name']:\n",
    "    if text.find('Mrs.') < 0:\n",
    "        continue\n",
    "    words_list = text.split(', Mrs.')\n",
    "    surname = words_list[0]\n",
    "    second_word = words_list[1]\n",
    "    words_list = second_word.split('(')\n",
    "    name = words_list[0]\n",
    "    if name == ' ':\n",
    "        continue\n",
    "    name = name.strip()\n",
    "    surname = surname.strip()\n",
    "    married_males_test.append(surname + ', Mr. ' + name)"
   ]
  },
  {
   "cell_type": "markdown",
   "metadata": {},
   "source": [
    "#### Create new columns"
   ]
  },
  {
   "cell_type": "code",
   "execution_count": 9,
   "metadata": {},
   "outputs": [],
   "source": [
    "train_data['Married_male'] = train_data['Name'].apply(lambda x: 1 if x in married_males_train else 0)\n",
    "test_data['Married_male'] = test_data['Name'].apply(lambda x: 1 if x in married_males_test else 0)"
   ]
  },
  {
   "cell_type": "code",
   "execution_count": 10,
   "metadata": {},
   "outputs": [
    {
     "data": {
      "text/html": [
       "<div>\n",
       "<style scoped>\n",
       "    .dataframe tbody tr th:only-of-type {\n",
       "        vertical-align: middle;\n",
       "    }\n",
       "\n",
       "    .dataframe tbody tr th {\n",
       "        vertical-align: top;\n",
       "    }\n",
       "\n",
       "    .dataframe thead th {\n",
       "        text-align: right;\n",
       "    }\n",
       "</style>\n",
       "<table border=\"1\" class=\"dataframe\">\n",
       "  <thead>\n",
       "    <tr style=\"text-align: right;\">\n",
       "      <th></th>\n",
       "      <th>Survived</th>\n",
       "      <th>Pclass</th>\n",
       "      <th>Name</th>\n",
       "      <th>Sex</th>\n",
       "      <th>Age</th>\n",
       "      <th>SibSp</th>\n",
       "      <th>Parch</th>\n",
       "      <th>Ticket</th>\n",
       "      <th>Fare</th>\n",
       "      <th>Cabin</th>\n",
       "      <th>Embarked</th>\n",
       "      <th>Married_female</th>\n",
       "      <th>Married_male</th>\n",
       "    </tr>\n",
       "  </thead>\n",
       "  <tbody>\n",
       "    <tr>\n",
       "      <th>0</th>\n",
       "      <td>0</td>\n",
       "      <td>3</td>\n",
       "      <td>Braund, Mr. Owen Harris</td>\n",
       "      <td>male</td>\n",
       "      <td>22.0</td>\n",
       "      <td>1</td>\n",
       "      <td>0</td>\n",
       "      <td>A/5 21171</td>\n",
       "      <td>7.2500</td>\n",
       "      <td>NaN</td>\n",
       "      <td>S</td>\n",
       "      <td>0</td>\n",
       "      <td>0</td>\n",
       "    </tr>\n",
       "    <tr>\n",
       "      <th>1</th>\n",
       "      <td>1</td>\n",
       "      <td>1</td>\n",
       "      <td>Cumings, Mrs. John Bradley (Florence Briggs Th...</td>\n",
       "      <td>female</td>\n",
       "      <td>38.0</td>\n",
       "      <td>1</td>\n",
       "      <td>0</td>\n",
       "      <td>PC 17599</td>\n",
       "      <td>71.2833</td>\n",
       "      <td>C85</td>\n",
       "      <td>C</td>\n",
       "      <td>1</td>\n",
       "      <td>0</td>\n",
       "    </tr>\n",
       "    <tr>\n",
       "      <th>2</th>\n",
       "      <td>1</td>\n",
       "      <td>3</td>\n",
       "      <td>Heikkinen, Miss. Laina</td>\n",
       "      <td>female</td>\n",
       "      <td>26.0</td>\n",
       "      <td>0</td>\n",
       "      <td>0</td>\n",
       "      <td>STON/O2. 3101282</td>\n",
       "      <td>7.9250</td>\n",
       "      <td>NaN</td>\n",
       "      <td>S</td>\n",
       "      <td>0</td>\n",
       "      <td>0</td>\n",
       "    </tr>\n",
       "    <tr>\n",
       "      <th>3</th>\n",
       "      <td>1</td>\n",
       "      <td>1</td>\n",
       "      <td>Futrelle, Mrs. Jacques Heath (Lily May Peel)</td>\n",
       "      <td>female</td>\n",
       "      <td>35.0</td>\n",
       "      <td>1</td>\n",
       "      <td>0</td>\n",
       "      <td>113803</td>\n",
       "      <td>53.1000</td>\n",
       "      <td>C123</td>\n",
       "      <td>S</td>\n",
       "      <td>1</td>\n",
       "      <td>0</td>\n",
       "    </tr>\n",
       "    <tr>\n",
       "      <th>4</th>\n",
       "      <td>0</td>\n",
       "      <td>3</td>\n",
       "      <td>Allen, Mr. William Henry</td>\n",
       "      <td>male</td>\n",
       "      <td>35.0</td>\n",
       "      <td>0</td>\n",
       "      <td>0</td>\n",
       "      <td>373450</td>\n",
       "      <td>8.0500</td>\n",
       "      <td>NaN</td>\n",
       "      <td>S</td>\n",
       "      <td>0</td>\n",
       "      <td>0</td>\n",
       "    </tr>\n",
       "    <tr>\n",
       "      <th>5</th>\n",
       "      <td>0</td>\n",
       "      <td>3</td>\n",
       "      <td>Moran, Mr. James</td>\n",
       "      <td>male</td>\n",
       "      <td>NaN</td>\n",
       "      <td>0</td>\n",
       "      <td>0</td>\n",
       "      <td>330877</td>\n",
       "      <td>8.4583</td>\n",
       "      <td>NaN</td>\n",
       "      <td>Q</td>\n",
       "      <td>0</td>\n",
       "      <td>0</td>\n",
       "    </tr>\n",
       "    <tr>\n",
       "      <th>6</th>\n",
       "      <td>0</td>\n",
       "      <td>1</td>\n",
       "      <td>McCarthy, Mr. Timothy J</td>\n",
       "      <td>male</td>\n",
       "      <td>54.0</td>\n",
       "      <td>0</td>\n",
       "      <td>0</td>\n",
       "      <td>17463</td>\n",
       "      <td>51.8625</td>\n",
       "      <td>E46</td>\n",
       "      <td>S</td>\n",
       "      <td>0</td>\n",
       "      <td>0</td>\n",
       "    </tr>\n",
       "    <tr>\n",
       "      <th>7</th>\n",
       "      <td>0</td>\n",
       "      <td>3</td>\n",
       "      <td>Palsson, Master. Gosta Leonard</td>\n",
       "      <td>male</td>\n",
       "      <td>2.0</td>\n",
       "      <td>3</td>\n",
       "      <td>1</td>\n",
       "      <td>349909</td>\n",
       "      <td>21.0750</td>\n",
       "      <td>NaN</td>\n",
       "      <td>S</td>\n",
       "      <td>0</td>\n",
       "      <td>0</td>\n",
       "    </tr>\n",
       "    <tr>\n",
       "      <th>8</th>\n",
       "      <td>1</td>\n",
       "      <td>3</td>\n",
       "      <td>Johnson, Mrs. Oscar W (Elisabeth Vilhelmina Berg)</td>\n",
       "      <td>female</td>\n",
       "      <td>27.0</td>\n",
       "      <td>0</td>\n",
       "      <td>2</td>\n",
       "      <td>347742</td>\n",
       "      <td>11.1333</td>\n",
       "      <td>NaN</td>\n",
       "      <td>S</td>\n",
       "      <td>1</td>\n",
       "      <td>0</td>\n",
       "    </tr>\n",
       "    <tr>\n",
       "      <th>9</th>\n",
       "      <td>1</td>\n",
       "      <td>2</td>\n",
       "      <td>Nasser, Mrs. Nicholas (Adele Achem)</td>\n",
       "      <td>female</td>\n",
       "      <td>14.0</td>\n",
       "      <td>1</td>\n",
       "      <td>0</td>\n",
       "      <td>237736</td>\n",
       "      <td>30.0708</td>\n",
       "      <td>NaN</td>\n",
       "      <td>C</td>\n",
       "      <td>1</td>\n",
       "      <td>0</td>\n",
       "    </tr>\n",
       "  </tbody>\n",
       "</table>\n",
       "</div>"
      ],
      "text/plain": [
       "   Survived  Pclass                                               Name  \\\n",
       "0         0       3                            Braund, Mr. Owen Harris   \n",
       "1         1       1  Cumings, Mrs. John Bradley (Florence Briggs Th...   \n",
       "2         1       3                             Heikkinen, Miss. Laina   \n",
       "3         1       1       Futrelle, Mrs. Jacques Heath (Lily May Peel)   \n",
       "4         0       3                           Allen, Mr. William Henry   \n",
       "5         0       3                                   Moran, Mr. James   \n",
       "6         0       1                            McCarthy, Mr. Timothy J   \n",
       "7         0       3                     Palsson, Master. Gosta Leonard   \n",
       "8         1       3  Johnson, Mrs. Oscar W (Elisabeth Vilhelmina Berg)   \n",
       "9         1       2                Nasser, Mrs. Nicholas (Adele Achem)   \n",
       "\n",
       "      Sex   Age  SibSp  Parch            Ticket     Fare Cabin Embarked  \\\n",
       "0    male  22.0      1      0         A/5 21171   7.2500   NaN        S   \n",
       "1  female  38.0      1      0          PC 17599  71.2833   C85        C   \n",
       "2  female  26.0      0      0  STON/O2. 3101282   7.9250   NaN        S   \n",
       "3  female  35.0      1      0            113803  53.1000  C123        S   \n",
       "4    male  35.0      0      0            373450   8.0500   NaN        S   \n",
       "5    male   NaN      0      0            330877   8.4583   NaN        Q   \n",
       "6    male  54.0      0      0             17463  51.8625   E46        S   \n",
       "7    male   2.0      3      1            349909  21.0750   NaN        S   \n",
       "8  female  27.0      0      2            347742  11.1333   NaN        S   \n",
       "9  female  14.0      1      0            237736  30.0708   NaN        C   \n",
       "\n",
       "   Married_female  Married_male  \n",
       "0               0             0  \n",
       "1               1             0  \n",
       "2               0             0  \n",
       "3               1             0  \n",
       "4               0             0  \n",
       "5               0             0  \n",
       "6               0             0  \n",
       "7               0             0  \n",
       "8               1             0  \n",
       "9               1             0  "
      ]
     },
     "execution_count": 10,
     "metadata": {},
     "output_type": "execute_result"
    }
   ],
   "source": [
    "train_data.head(10)"
   ]
  },
  {
   "cell_type": "markdown",
   "metadata": {},
   "source": [
    "## Fill missing age values depending on name formating"
   ]
  },
  {
   "cell_type": "code",
   "execution_count": 11,
   "metadata": {},
   "outputs": [],
   "source": [
    "train_data['Young'] = train_data.apply(\n",
    "    lambda x: 1 if x.Name[-1:] == 'J' or x.Name.find('Jr') >= 0 or 12 < x.Age <= 25 else 0, axis=1)\n",
    "\n",
    "test_data['Young'] = test_data.apply(\n",
    "    lambda x: 1 if x.Name[-1:] == 'J' or x.Name.find('Jr') >= 0 or 12 < x.Age <= 25 else 0, axis=1)"
   ]
  },
  {
   "cell_type": "code",
   "execution_count": 12,
   "metadata": {},
   "outputs": [],
   "source": [
    "train_data['Age'] = train_data.apply(\n",
    "    lambda x: 25 if np.isnan(x.Age) and x.Young == 1 else 40 if np.isnan(x.Age) else x.Age, axis=1)\n",
    "\n",
    "test_data['Age'] = test_data.apply(\n",
    "    lambda x: 25 if np.isnan(x.Age) and x.Young == 1 else 40 if np.isnan(x.Age) else x.Age, axis=1)"
   ]
  },
  {
   "cell_type": "markdown",
   "metadata": {},
   "source": [
    "## Bucketize ages according to chosen bucket ranges"
   ]
  },
  {
   "cell_type": "code",
   "execution_count": 13,
   "metadata": {},
   "outputs": [],
   "source": [
    "LOW = 7\n",
    "HIGH = 65\n",
    "\n",
    "train_data['Age'] = train_data.apply(lambda x: 'LOW' if x.Age < LOW else float(x.Age), axis=1)\n",
    "train_data['Age'] = train_data.apply(lambda x: 'MID' if isinstance(x.Age, float) and HIGH > x.Age >= LOW else x.Age, axis=1)\n",
    "train_data['Age'] = train_data.apply(lambda x: 'HIGH' if isinstance(x.Age, float) and x.Age >= HIGH else x.Age, axis=1)\n",
    "\n",
    "test_data['Age'] = test_data.apply(lambda x: 'LOW' if x.Age < LOW else float(x.Age), axis=1)\n",
    "test_data['Age'] = test_data.apply(lambda x: 'MID' if isinstance(x.Age, float) and HIGH > x.Age >= LOW else x.Age, axis=1)\n",
    "test_data['Age'] = test_data.apply(lambda x: 'HIGH' if isinstance(x.Age, float) and x.Age >= HIGH else x.Age, axis=1)"
   ]
  },
  {
   "cell_type": "code",
   "execution_count": 14,
   "metadata": {},
   "outputs": [
    {
     "data": {
      "text/html": [
       "<div>\n",
       "<style scoped>\n",
       "    .dataframe tbody tr th:only-of-type {\n",
       "        vertical-align: middle;\n",
       "    }\n",
       "\n",
       "    .dataframe tbody tr th {\n",
       "        vertical-align: top;\n",
       "    }\n",
       "\n",
       "    .dataframe thead th {\n",
       "        text-align: right;\n",
       "    }\n",
       "</style>\n",
       "<table border=\"1\" class=\"dataframe\">\n",
       "  <thead>\n",
       "    <tr style=\"text-align: right;\">\n",
       "      <th></th>\n",
       "      <th>count</th>\n",
       "      <th>median</th>\n",
       "      <th>mean</th>\n",
       "    </tr>\n",
       "    <tr>\n",
       "      <th>Age</th>\n",
       "      <th></th>\n",
       "      <th></th>\n",
       "      <th></th>\n",
       "    </tr>\n",
       "  </thead>\n",
       "  <tbody>\n",
       "    <tr>\n",
       "      <th>HIGH</th>\n",
       "      <td>11</td>\n",
       "      <td>0</td>\n",
       "      <td>0.090909</td>\n",
       "    </tr>\n",
       "    <tr>\n",
       "      <th>MID</th>\n",
       "      <td>833</td>\n",
       "      <td>0</td>\n",
       "      <td>0.369748</td>\n",
       "    </tr>\n",
       "    <tr>\n",
       "      <th>LOW</th>\n",
       "      <td>47</td>\n",
       "      <td>1</td>\n",
       "      <td>0.702128</td>\n",
       "    </tr>\n",
       "  </tbody>\n",
       "</table>\n",
       "</div>"
      ],
      "text/plain": [
       "      count  median      mean\n",
       "Age                          \n",
       "HIGH     11       0  0.090909\n",
       "MID     833       0  0.369748\n",
       "LOW      47       1  0.702128"
      ]
     },
     "execution_count": 14,
     "metadata": {},
     "output_type": "execute_result"
    }
   ],
   "source": [
    "# check results\n",
    "\n",
    "train_data.groupby(by='Age')['Survived'].agg([np.ma.count, np.median, np.mean]).sort_values(by='mean')"
   ]
  },
  {
   "cell_type": "code",
   "execution_count": 15,
   "metadata": {},
   "outputs": [],
   "source": [
    "# bucketize ages\n",
    "\n",
    "dummy = pd.get_dummies(train_data['Age'], prefix='Age', prefix_sep='_')\n",
    "ages = list(dummy)\n",
    "\n",
    "train_data[ages] = dummy[ages]"
   ]
  },
  {
   "cell_type": "code",
   "execution_count": 16,
   "metadata": {},
   "outputs": [],
   "source": [
    "dummy = pd.get_dummies(test_data['Age'], prefix='Age', prefix_sep='_')\n",
    "ages = list(dummy)\n",
    "\n",
    "test_data[ages] = dummy[ages]"
   ]
  },
  {
   "cell_type": "code",
   "execution_count": 17,
   "metadata": {},
   "outputs": [],
   "source": [
    "train_data.drop(columns='Age', inplace=True)\n",
    "test_data.drop(columns='Age', inplace=True)"
   ]
  },
  {
   "cell_type": "code",
   "execution_count": 18,
   "metadata": {},
   "outputs": [
    {
     "data": {
      "text/html": [
       "<div>\n",
       "<style scoped>\n",
       "    .dataframe tbody tr th:only-of-type {\n",
       "        vertical-align: middle;\n",
       "    }\n",
       "\n",
       "    .dataframe tbody tr th {\n",
       "        vertical-align: top;\n",
       "    }\n",
       "\n",
       "    .dataframe thead th {\n",
       "        text-align: right;\n",
       "    }\n",
       "</style>\n",
       "<table border=\"1\" class=\"dataframe\">\n",
       "  <thead>\n",
       "    <tr style=\"text-align: right;\">\n",
       "      <th></th>\n",
       "      <th>Survived</th>\n",
       "      <th>Pclass</th>\n",
       "      <th>Name</th>\n",
       "      <th>Sex</th>\n",
       "      <th>SibSp</th>\n",
       "      <th>Parch</th>\n",
       "      <th>Ticket</th>\n",
       "      <th>Fare</th>\n",
       "      <th>Cabin</th>\n",
       "      <th>Embarked</th>\n",
       "      <th>Married_female</th>\n",
       "      <th>Married_male</th>\n",
       "      <th>Young</th>\n",
       "      <th>Age_HIGH</th>\n",
       "      <th>Age_LOW</th>\n",
       "      <th>Age_MID</th>\n",
       "    </tr>\n",
       "  </thead>\n",
       "  <tbody>\n",
       "    <tr>\n",
       "      <th>0</th>\n",
       "      <td>0</td>\n",
       "      <td>3</td>\n",
       "      <td>Braund, Mr. Owen Harris</td>\n",
       "      <td>male</td>\n",
       "      <td>1</td>\n",
       "      <td>0</td>\n",
       "      <td>A/5 21171</td>\n",
       "      <td>7.2500</td>\n",
       "      <td>NaN</td>\n",
       "      <td>S</td>\n",
       "      <td>0</td>\n",
       "      <td>0</td>\n",
       "      <td>1</td>\n",
       "      <td>0</td>\n",
       "      <td>0</td>\n",
       "      <td>1</td>\n",
       "    </tr>\n",
       "    <tr>\n",
       "      <th>1</th>\n",
       "      <td>1</td>\n",
       "      <td>1</td>\n",
       "      <td>Cumings, Mrs. John Bradley (Florence Briggs Th...</td>\n",
       "      <td>female</td>\n",
       "      <td>1</td>\n",
       "      <td>0</td>\n",
       "      <td>PC 17599</td>\n",
       "      <td>71.2833</td>\n",
       "      <td>C85</td>\n",
       "      <td>C</td>\n",
       "      <td>1</td>\n",
       "      <td>0</td>\n",
       "      <td>0</td>\n",
       "      <td>0</td>\n",
       "      <td>0</td>\n",
       "      <td>1</td>\n",
       "    </tr>\n",
       "    <tr>\n",
       "      <th>2</th>\n",
       "      <td>1</td>\n",
       "      <td>3</td>\n",
       "      <td>Heikkinen, Miss. Laina</td>\n",
       "      <td>female</td>\n",
       "      <td>0</td>\n",
       "      <td>0</td>\n",
       "      <td>STON/O2. 3101282</td>\n",
       "      <td>7.9250</td>\n",
       "      <td>NaN</td>\n",
       "      <td>S</td>\n",
       "      <td>0</td>\n",
       "      <td>0</td>\n",
       "      <td>0</td>\n",
       "      <td>0</td>\n",
       "      <td>0</td>\n",
       "      <td>1</td>\n",
       "    </tr>\n",
       "    <tr>\n",
       "      <th>3</th>\n",
       "      <td>1</td>\n",
       "      <td>1</td>\n",
       "      <td>Futrelle, Mrs. Jacques Heath (Lily May Peel)</td>\n",
       "      <td>female</td>\n",
       "      <td>1</td>\n",
       "      <td>0</td>\n",
       "      <td>113803</td>\n",
       "      <td>53.1000</td>\n",
       "      <td>C123</td>\n",
       "      <td>S</td>\n",
       "      <td>1</td>\n",
       "      <td>0</td>\n",
       "      <td>0</td>\n",
       "      <td>0</td>\n",
       "      <td>0</td>\n",
       "      <td>1</td>\n",
       "    </tr>\n",
       "    <tr>\n",
       "      <th>4</th>\n",
       "      <td>0</td>\n",
       "      <td>3</td>\n",
       "      <td>Allen, Mr. William Henry</td>\n",
       "      <td>male</td>\n",
       "      <td>0</td>\n",
       "      <td>0</td>\n",
       "      <td>373450</td>\n",
       "      <td>8.0500</td>\n",
       "      <td>NaN</td>\n",
       "      <td>S</td>\n",
       "      <td>0</td>\n",
       "      <td>0</td>\n",
       "      <td>0</td>\n",
       "      <td>0</td>\n",
       "      <td>0</td>\n",
       "      <td>1</td>\n",
       "    </tr>\n",
       "  </tbody>\n",
       "</table>\n",
       "</div>"
      ],
      "text/plain": [
       "   Survived  Pclass                                               Name  \\\n",
       "0         0       3                            Braund, Mr. Owen Harris   \n",
       "1         1       1  Cumings, Mrs. John Bradley (Florence Briggs Th...   \n",
       "2         1       3                             Heikkinen, Miss. Laina   \n",
       "3         1       1       Futrelle, Mrs. Jacques Heath (Lily May Peel)   \n",
       "4         0       3                           Allen, Mr. William Henry   \n",
       "\n",
       "      Sex  SibSp  Parch            Ticket     Fare Cabin Embarked  \\\n",
       "0    male      1      0         A/5 21171   7.2500   NaN        S   \n",
       "1  female      1      0          PC 17599  71.2833   C85        C   \n",
       "2  female      0      0  STON/O2. 3101282   7.9250   NaN        S   \n",
       "3  female      1      0            113803  53.1000  C123        S   \n",
       "4    male      0      0            373450   8.0500   NaN        S   \n",
       "\n",
       "   Married_female  Married_male  Young  Age_HIGH  Age_LOW  Age_MID  \n",
       "0               0             0      1         0        0        1  \n",
       "1               1             0      0         0        0        1  \n",
       "2               0             0      0         0        0        1  \n",
       "3               1             0      0         0        0        1  \n",
       "4               0             0      0         0        0        1  "
      ]
     },
     "execution_count": 18,
     "metadata": {},
     "output_type": "execute_result"
    }
   ],
   "source": [
    "train_data.head(5)"
   ]
  },
  {
   "cell_type": "markdown",
   "metadata": {},
   "source": [
    "## Check for columns with missing data"
   ]
  },
  {
   "cell_type": "code",
   "execution_count": 19,
   "metadata": {},
   "outputs": [
    {
     "name": "stdout",
     "output_type": "stream",
     "text": [
      "Cabin\n",
      "Embarked\n"
     ]
    }
   ],
   "source": [
    "for col in train_data:\n",
    "    if train_data[col].isna().any():\n",
    "        print(col)"
   ]
  },
  {
   "cell_type": "code",
   "execution_count": 20,
   "metadata": {},
   "outputs": [
    {
     "name": "stdout",
     "output_type": "stream",
     "text": [
      "Fare\n",
      "Cabin\n"
     ]
    }
   ],
   "source": [
    "for col in test_data:\n",
    "    if test_data[col].isna().any():\n",
    "        print(col)"
   ]
  },
  {
   "cell_type": "code",
   "execution_count": 21,
   "metadata": {},
   "outputs": [],
   "source": [
    "# fill missing 'Fare' values by zeros\n",
    "\n",
    "test_data['Fare'].fillna(0.0, inplace=True)"
   ]
  },
  {
   "cell_type": "markdown",
   "metadata": {},
   "source": [
    "## Create mappings and bucketize data"
   ]
  },
  {
   "cell_type": "markdown",
   "metadata": {},
   "source": [
    "### Sex"
   ]
  },
  {
   "cell_type": "code",
   "execution_count": 22,
   "metadata": {},
   "outputs": [],
   "source": [
    "# bucketize 'Sex' column data\n",
    "\n",
    "mapping = {'female':1, 'male':0}\n",
    "\n",
    "train_data['Sex'].replace(to_replace=mapping, inplace=True)\n",
    "test_data['Sex'].replace(to_replace=mapping, inplace=True)"
   ]
  },
  {
   "cell_type": "markdown",
   "metadata": {},
   "source": [
    "### Ticket"
   ]
  },
  {
   "cell_type": "code",
   "execution_count": 23,
   "metadata": {},
   "outputs": [],
   "source": [
    "# set numeric ticket values to 'Reg'\n",
    "\n",
    "train_data['Ticket'] = train_data.apply(lambda x: 'Reg' if x.Ticket.isnumeric() else x.Ticket, axis=1)\n",
    "test_data['Ticket'] = test_data.apply(lambda x: 'Reg' if x.Ticket.isnumeric() else x.Ticket, axis=1)"
   ]
  },
  {
   "cell_type": "code",
   "execution_count": 24,
   "metadata": {},
   "outputs": [],
   "source": [
    "# crop non-numeric ticket values to keep only first letter\n",
    "\n",
    "train_data['Ticket'] = train_data.apply(lambda x: x.Ticket[:1], axis=1)\n",
    "test_data['Ticket'] = test_data.apply(lambda x: x.Ticket[:1], axis=1)"
   ]
  },
  {
   "cell_type": "code",
   "execution_count": 25,
   "metadata": {
    "scrolled": false
   },
   "outputs": [
    {
     "name": "stdout",
     "output_type": "stream",
     "text": [
      "A C F L P R S W\n"
     ]
    }
   ],
   "source": [
    "# get unique ticket values\n",
    "\n",
    "val, uniq = train_data['Ticket'].factorize()\n",
    "\n",
    "uniq = list(uniq)\n",
    "uniq.sort()\n",
    "print(*uniq)"
   ]
  },
  {
   "cell_type": "code",
   "execution_count": 26,
   "metadata": {},
   "outputs": [
    {
     "name": "stdout",
     "output_type": "stream",
     "text": [
      "A C F L P R S W\n"
     ]
    }
   ],
   "source": [
    "val, uniq = test_data['Ticket'].factorize()\n",
    "\n",
    "uniq = list(uniq)\n",
    "uniq.sort()\n",
    "print(*uniq)"
   ]
  },
  {
   "cell_type": "code",
   "execution_count": 27,
   "metadata": {},
   "outputs": [
    {
     "data": {
      "text/plain": [
       "{'A': 0.107,\n",
       " 'C': 0.527,\n",
       " 'F': 0.884,\n",
       " 'L': 0.387,\n",
       " 'P': 1.0,\n",
       " 'R': 0.595,\n",
       " 'S': 0.5,\n",
       " 'W': 0.238}"
      ]
     },
     "execution_count": 27,
     "metadata": {},
     "output_type": "execute_result"
    }
   ],
   "source": [
    "# ...GET MAPPINGS\n",
    "\n",
    "mapping_dict = {}\n",
    " \n",
    "uniq_dict = defaultdict(list)\n",
    "\n",
    "# create dictionary {class: list of prices}\n",
    "for i in range(len(train_data)):\n",
    "    uniq_dict[train_data['Ticket'][i]].append(train_data['Survived'][i])\n",
    "\n",
    "# find mean price value for each class in dictionary\n",
    "for item in uniq_dict:\n",
    "    uniq_dict[item] = sum(uniq_dict[item]) / len(uniq_dict[item])\n",
    "\n",
    "# convert dictionary to list of tuples [(class, mean_price), ...]\n",
    "dlst = uniq_dict.items()\n",
    "lst = [*dlst]\n",
    "\n",
    "# sort list of tuples by mean_price\n",
    "lst.sort(key=lambda x: x[1])\n",
    "\n",
    "# convert classes to float coefficients using (mean_price_for_class / max_mean_value)\n",
    "classes, mean_prices = zip(*lst)\n",
    "max_mean_price = max(mean_prices)\n",
    "numeric_class_list = []\n",
    "for i in range(len(classes)):\n",
    "    numeric_class_list.append(round(mean_prices[i] / max_mean_price, 3))\n",
    "\n",
    "# create mapping {class: numeric_class}\n",
    "mapping = dict(zip(list(classes), numeric_class_list))\n",
    "\n",
    "mapping"
   ]
  },
  {
   "cell_type": "code",
   "execution_count": 28,
   "metadata": {},
   "outputs": [],
   "source": [
    "# combine S, C and R classes to one single SCR class\n",
    "\n",
    "train_data['Ticket'] = train_data.apply(lambda x: 'SCR' if x.Ticket in 'SCR' else x.Ticket, axis=1)\n",
    "test_data['Ticket'] = test_data.apply(lambda x: 'SCR' if x.Ticket in 'SCR' else x.Ticket, axis=1)"
   ]
  },
  {
   "cell_type": "code",
   "execution_count": 29,
   "metadata": {},
   "outputs": [],
   "source": [
    "# bucketize 'Ticket' columns\n",
    "\n",
    "dummy = pd.get_dummies(train_data['Ticket'], prefix='Ticket', prefix_sep='_')\n",
    "tickets = list(dummy)\n",
    "\n",
    "train_data[tickets] = dummy[tickets]"
   ]
  },
  {
   "cell_type": "code",
   "execution_count": 30,
   "metadata": {},
   "outputs": [],
   "source": [
    "dummy = pd.get_dummies(test_data['Ticket'], prefix='Ticket', prefix_sep='_')\n",
    "tickets = list(dummy)\n",
    "\n",
    "test_data[tickets] = dummy[tickets]"
   ]
  },
  {
   "cell_type": "code",
   "execution_count": 31,
   "metadata": {},
   "outputs": [],
   "source": [
    "train_data.drop(columns=['Name', 'Ticket'], inplace=True)\n",
    "test_data.drop(columns=['Name', 'Ticket'], inplace=True)"
   ]
  },
  {
   "cell_type": "markdown",
   "metadata": {},
   "source": [
    "### Embarked"
   ]
  },
  {
   "cell_type": "code",
   "execution_count": 32,
   "metadata": {},
   "outputs": [
    {
     "data": {
      "text/plain": [
       "{'C': 0.554, 'Q': 0.39, 'S': 0.337, nan: 1.0}"
      ]
     },
     "execution_count": 32,
     "metadata": {},
     "output_type": "execute_result"
    }
   ],
   "source": [
    "# ...GET MAPPINGS\n",
    "\n",
    "mapping_dict = {}\n",
    " \n",
    "uniq_dict = defaultdict(list)\n",
    "\n",
    "# create dictionary {class: list of prices}\n",
    "for i in range(len(train_data)):\n",
    "    uniq_dict[train_data['Embarked'][i]].append(train_data['Survived'][i])\n",
    "\n",
    "# find mean price value for each class in dictionary\n",
    "for item in uniq_dict:\n",
    "    uniq_dict[item] = sum(uniq_dict[item]) / len(uniq_dict[item])\n",
    "\n",
    "# convert dictionary to list of tuples [(class, mean_price), ...]\n",
    "dlst = uniq_dict.items()\n",
    "lst = [*dlst]\n",
    "\n",
    "#sort list of tuples by mean_price\n",
    "lst.sort(key=lambda x: x[1])\n",
    "\n",
    "# convert classes to float coefficients using (mean_price_for_class / max_mean_value)\n",
    "classes, mean_prices = zip(*lst)\n",
    "max_mean_price = max(mean_prices)\n",
    "numeric_class_list = []\n",
    "for i in range(len(classes)):\n",
    "    numeric_class_list.append(round(mean_prices[i] / max_mean_price, 3))\n",
    "\n",
    "# create mapping {class: numeric_class}\n",
    "mapping = dict(zip(list(classes), numeric_class_list))\n",
    "\n",
    "mapping"
   ]
  },
  {
   "cell_type": "code",
   "execution_count": 33,
   "metadata": {},
   "outputs": [],
   "source": [
    "# drop rows corresponding to missing 'Embarked' data\n",
    "\n",
    "train_data.dropna(axis=0, subset=['Embarked'], inplace=True)\n",
    "train_data.reset_index(drop=True, inplace=True)"
   ]
  },
  {
   "cell_type": "code",
   "execution_count": 34,
   "metadata": {},
   "outputs": [],
   "source": [
    "# bucketize 'Embarked' columns\n",
    "\n",
    "dummy = pd.get_dummies(train_data['Embarked'], prefix='Embark', prefix_sep='_')\n",
    "embark = list(dummy)\n",
    "\n",
    "train_data[embark] = dummy[embark]"
   ]
  },
  {
   "cell_type": "code",
   "execution_count": 35,
   "metadata": {},
   "outputs": [],
   "source": [
    "dummy = pd.get_dummies(test_data['Embarked'], prefix='Embark', prefix_sep='_')\n",
    "embark = list(dummy)\n",
    "\n",
    "test_data[embark] = dummy[embark]"
   ]
  },
  {
   "cell_type": "code",
   "execution_count": 36,
   "metadata": {},
   "outputs": [],
   "source": [
    "train_data.drop(columns='Embarked', inplace=True)\n",
    "test_data.drop(columns='Embarked', inplace=True)"
   ]
  },
  {
   "cell_type": "code",
   "execution_count": 37,
   "metadata": {},
   "outputs": [
    {
     "data": {
      "text/html": [
       "<div>\n",
       "<style scoped>\n",
       "    .dataframe tbody tr th:only-of-type {\n",
       "        vertical-align: middle;\n",
       "    }\n",
       "\n",
       "    .dataframe tbody tr th {\n",
       "        vertical-align: top;\n",
       "    }\n",
       "\n",
       "    .dataframe thead th {\n",
       "        text-align: right;\n",
       "    }\n",
       "</style>\n",
       "<table border=\"1\" class=\"dataframe\">\n",
       "  <thead>\n",
       "    <tr style=\"text-align: right;\">\n",
       "      <th></th>\n",
       "      <th>Survived</th>\n",
       "      <th>Pclass</th>\n",
       "      <th>Sex</th>\n",
       "      <th>SibSp</th>\n",
       "      <th>Parch</th>\n",
       "      <th>Fare</th>\n",
       "      <th>Cabin</th>\n",
       "      <th>Married_female</th>\n",
       "      <th>Married_male</th>\n",
       "      <th>Young</th>\n",
       "      <th>...</th>\n",
       "      <th>Age_MID</th>\n",
       "      <th>Ticket_A</th>\n",
       "      <th>Ticket_F</th>\n",
       "      <th>Ticket_L</th>\n",
       "      <th>Ticket_P</th>\n",
       "      <th>Ticket_SCR</th>\n",
       "      <th>Ticket_W</th>\n",
       "      <th>Embark_C</th>\n",
       "      <th>Embark_Q</th>\n",
       "      <th>Embark_S</th>\n",
       "    </tr>\n",
       "  </thead>\n",
       "  <tbody>\n",
       "    <tr>\n",
       "      <th>0</th>\n",
       "      <td>0</td>\n",
       "      <td>3</td>\n",
       "      <td>0</td>\n",
       "      <td>1</td>\n",
       "      <td>0</td>\n",
       "      <td>7.2500</td>\n",
       "      <td>NaN</td>\n",
       "      <td>0</td>\n",
       "      <td>0</td>\n",
       "      <td>1</td>\n",
       "      <td>...</td>\n",
       "      <td>1</td>\n",
       "      <td>1</td>\n",
       "      <td>0</td>\n",
       "      <td>0</td>\n",
       "      <td>0</td>\n",
       "      <td>0</td>\n",
       "      <td>0</td>\n",
       "      <td>0</td>\n",
       "      <td>0</td>\n",
       "      <td>1</td>\n",
       "    </tr>\n",
       "    <tr>\n",
       "      <th>1</th>\n",
       "      <td>1</td>\n",
       "      <td>1</td>\n",
       "      <td>1</td>\n",
       "      <td>1</td>\n",
       "      <td>0</td>\n",
       "      <td>71.2833</td>\n",
       "      <td>C85</td>\n",
       "      <td>1</td>\n",
       "      <td>0</td>\n",
       "      <td>0</td>\n",
       "      <td>...</td>\n",
       "      <td>1</td>\n",
       "      <td>0</td>\n",
       "      <td>0</td>\n",
       "      <td>0</td>\n",
       "      <td>1</td>\n",
       "      <td>0</td>\n",
       "      <td>0</td>\n",
       "      <td>1</td>\n",
       "      <td>0</td>\n",
       "      <td>0</td>\n",
       "    </tr>\n",
       "    <tr>\n",
       "      <th>2</th>\n",
       "      <td>1</td>\n",
       "      <td>3</td>\n",
       "      <td>1</td>\n",
       "      <td>0</td>\n",
       "      <td>0</td>\n",
       "      <td>7.9250</td>\n",
       "      <td>NaN</td>\n",
       "      <td>0</td>\n",
       "      <td>0</td>\n",
       "      <td>0</td>\n",
       "      <td>...</td>\n",
       "      <td>1</td>\n",
       "      <td>0</td>\n",
       "      <td>0</td>\n",
       "      <td>0</td>\n",
       "      <td>0</td>\n",
       "      <td>1</td>\n",
       "      <td>0</td>\n",
       "      <td>0</td>\n",
       "      <td>0</td>\n",
       "      <td>1</td>\n",
       "    </tr>\n",
       "    <tr>\n",
       "      <th>3</th>\n",
       "      <td>1</td>\n",
       "      <td>1</td>\n",
       "      <td>1</td>\n",
       "      <td>1</td>\n",
       "      <td>0</td>\n",
       "      <td>53.1000</td>\n",
       "      <td>C123</td>\n",
       "      <td>1</td>\n",
       "      <td>0</td>\n",
       "      <td>0</td>\n",
       "      <td>...</td>\n",
       "      <td>1</td>\n",
       "      <td>0</td>\n",
       "      <td>0</td>\n",
       "      <td>0</td>\n",
       "      <td>0</td>\n",
       "      <td>1</td>\n",
       "      <td>0</td>\n",
       "      <td>0</td>\n",
       "      <td>0</td>\n",
       "      <td>1</td>\n",
       "    </tr>\n",
       "    <tr>\n",
       "      <th>4</th>\n",
       "      <td>0</td>\n",
       "      <td>3</td>\n",
       "      <td>0</td>\n",
       "      <td>0</td>\n",
       "      <td>0</td>\n",
       "      <td>8.0500</td>\n",
       "      <td>NaN</td>\n",
       "      <td>0</td>\n",
       "      <td>0</td>\n",
       "      <td>0</td>\n",
       "      <td>...</td>\n",
       "      <td>1</td>\n",
       "      <td>0</td>\n",
       "      <td>0</td>\n",
       "      <td>0</td>\n",
       "      <td>0</td>\n",
       "      <td>1</td>\n",
       "      <td>0</td>\n",
       "      <td>0</td>\n",
       "      <td>0</td>\n",
       "      <td>1</td>\n",
       "    </tr>\n",
       "  </tbody>\n",
       "</table>\n",
       "<p>5 rows × 22 columns</p>\n",
       "</div>"
      ],
      "text/plain": [
       "   Survived  Pclass  Sex  SibSp  Parch     Fare Cabin  Married_female  \\\n",
       "0         0       3    0      1      0   7.2500   NaN               0   \n",
       "1         1       1    1      1      0  71.2833   C85               1   \n",
       "2         1       3    1      0      0   7.9250   NaN               0   \n",
       "3         1       1    1      1      0  53.1000  C123               1   \n",
       "4         0       3    0      0      0   8.0500   NaN               0   \n",
       "\n",
       "   Married_male  Young    ...     Age_MID  Ticket_A  Ticket_F  Ticket_L  \\\n",
       "0             0      1    ...           1         1         0         0   \n",
       "1             0      0    ...           1         0         0         0   \n",
       "2             0      0    ...           1         0         0         0   \n",
       "3             0      0    ...           1         0         0         0   \n",
       "4             0      0    ...           1         0         0         0   \n",
       "\n",
       "   Ticket_P  Ticket_SCR  Ticket_W  Embark_C  Embark_Q  Embark_S  \n",
       "0         0           0         0         0         0         1  \n",
       "1         1           0         0         1         0         0  \n",
       "2         0           1         0         0         0         1  \n",
       "3         0           1         0         0         0         1  \n",
       "4         0           1         0         0         0         1  \n",
       "\n",
       "[5 rows x 22 columns]"
      ]
     },
     "execution_count": 37,
     "metadata": {},
     "output_type": "execute_result"
    }
   ],
   "source": [
    "# check results\n",
    "\n",
    "train_data.head(5)"
   ]
  },
  {
   "cell_type": "markdown",
   "metadata": {},
   "source": [
    "### Cabin"
   ]
  },
  {
   "cell_type": "code",
   "execution_count": 38,
   "metadata": {},
   "outputs": [],
   "source": [
    "# fill missing 'Cabin' values with 'N' strings\n",
    "\n",
    "train_data['Cabin'].fillna('N', inplace=True)\n",
    "test_data['Cabin'].fillna('N', inplace=True)"
   ]
  },
  {
   "cell_type": "code",
   "execution_count": 39,
   "metadata": {},
   "outputs": [],
   "source": [
    "# crop values to keep only first letter\n",
    "\n",
    "train_data['Cabin'] = train_data.apply(lambda x: x.Cabin[:1], axis=1)\n",
    "test_data['Cabin'] = test_data.apply(lambda x: x.Cabin[:1], axis=1)"
   ]
  },
  {
   "cell_type": "code",
   "execution_count": 40,
   "metadata": {},
   "outputs": [
    {
     "data": {
      "text/plain": [
       "{'A': 0.616,\n",
       " 'B': 0.968,\n",
       " 'C': 0.783,\n",
       " 'D': 1.0,\n",
       " 'E': 0.99,\n",
       " 'F': 0.812,\n",
       " 'G': 0.66,\n",
       " 'N': 0.396,\n",
       " 'T': 0.0}"
      ]
     },
     "execution_count": 40,
     "metadata": {},
     "output_type": "execute_result"
    }
   ],
   "source": [
    "# ...GET MAPPINGS\n",
    "\n",
    "mapping_dict = {}\n",
    " \n",
    "uniq_dict = defaultdict(list)\n",
    "\n",
    "# create dictionary {class: list of prices}\n",
    "for i in range(len(train_data)):\n",
    "    uniq_dict[train_data['Cabin'][i]].append(train_data['Survived'][i])\n",
    "\n",
    "# find mean price value for each class in dictionary\n",
    "for item in uniq_dict:\n",
    "    uniq_dict[item] = sum(uniq_dict[item]) / len(uniq_dict[item])\n",
    "\n",
    "# convert dictionary to list of tuples [(class, mean_price), ...]\n",
    "dlst = uniq_dict.items()\n",
    "lst = [*dlst]\n",
    "\n",
    "#sort list of tuples by mean_price\n",
    "lst.sort(key=lambda x: x[1])\n",
    "\n",
    "# convert classes to float coefficients using (mean_price_for_class / max_mean_value)\n",
    "classes, mean_prices = zip(*lst)\n",
    "max_mean_price = max(mean_prices)\n",
    "numeric_class_list = []\n",
    "for i in range(len(classes)):\n",
    "    numeric_class_list.append(round(mean_prices[i] / max_mean_price, 3))\n",
    "\n",
    "# create mapping {class: numeric_class}\n",
    "mapping = dict(zip(list(classes), numeric_class_list))\n",
    "\n",
    "mapping"
   ]
  },
  {
   "cell_type": "code",
   "execution_count": 41,
   "metadata": {},
   "outputs": [],
   "source": [
    "# combine some of the classes\n",
    "\n",
    "train_data['Cabin'] = train_data.apply(lambda x: 'EBD' if x.Cabin in 'EBD' else x.Cabin, axis=1)\n",
    "test_data['Cabin'] = test_data.apply(lambda x: 'EBD' if x.Cabin in 'EBD' else x.Cabin, axis=1)"
   ]
  },
  {
   "cell_type": "code",
   "execution_count": 42,
   "metadata": {},
   "outputs": [],
   "source": [
    "train_data['Cabin'] = train_data.apply(lambda x: 'AG' if x.Cabin in 'AG' else x.Cabin, axis=1)\n",
    "test_data['Cabin'] = test_data.apply(lambda x: 'AG' if x.Cabin in 'AG' else x.Cabin, axis=1)"
   ]
  },
  {
   "cell_type": "code",
   "execution_count": 43,
   "metadata": {},
   "outputs": [],
   "source": [
    "train_data['Cabin'] = train_data.apply(lambda x: 'CF' if x.Cabin in 'CF' else x.Cabin, axis=1)\n",
    "test_data['Cabin'] = test_data.apply(lambda x: 'CF' if x.Cabin in 'CF' else x.Cabin, axis=1)"
   ]
  },
  {
   "cell_type": "code",
   "execution_count": 44,
   "metadata": {},
   "outputs": [],
   "source": [
    "train_data['Cabin'] = train_data.apply(lambda x: 'N' if x.Cabin in 'TN' else x.Cabin, axis=1)\n",
    "test_data['Cabin'] = test_data.apply(lambda x: 'N' if x.Cabin in 'TN' else x.Cabin, axis=1)"
   ]
  },
  {
   "cell_type": "code",
   "execution_count": 45,
   "metadata": {},
   "outputs": [
    {
     "data": {
      "text/html": [
       "<div>\n",
       "<style scoped>\n",
       "    .dataframe tbody tr th:only-of-type {\n",
       "        vertical-align: middle;\n",
       "    }\n",
       "\n",
       "    .dataframe tbody tr th {\n",
       "        vertical-align: top;\n",
       "    }\n",
       "\n",
       "    .dataframe thead th {\n",
       "        text-align: right;\n",
       "    }\n",
       "</style>\n",
       "<table border=\"1\" class=\"dataframe\">\n",
       "  <thead>\n",
       "    <tr style=\"text-align: right;\">\n",
       "      <th></th>\n",
       "      <th>count</th>\n",
       "      <th>median</th>\n",
       "      <th>mean</th>\n",
       "    </tr>\n",
       "    <tr>\n",
       "      <th>Cabin</th>\n",
       "      <th></th>\n",
       "      <th></th>\n",
       "      <th></th>\n",
       "    </tr>\n",
       "  </thead>\n",
       "  <tbody>\n",
       "    <tr>\n",
       "      <th>N</th>\n",
       "      <td>688</td>\n",
       "      <td>0</td>\n",
       "      <td>0.299419</td>\n",
       "    </tr>\n",
       "    <tr>\n",
       "      <th>AG</th>\n",
       "      <td>19</td>\n",
       "      <td>0</td>\n",
       "      <td>0.473684</td>\n",
       "    </tr>\n",
       "    <tr>\n",
       "      <th>CF</th>\n",
       "      <td>72</td>\n",
       "      <td>1</td>\n",
       "      <td>0.597222</td>\n",
       "    </tr>\n",
       "    <tr>\n",
       "      <th>EBD</th>\n",
       "      <td>110</td>\n",
       "      <td>1</td>\n",
       "      <td>0.745455</td>\n",
       "    </tr>\n",
       "  </tbody>\n",
       "</table>\n",
       "</div>"
      ],
      "text/plain": [
       "       count  median      mean\n",
       "Cabin                         \n",
       "N        688       0  0.299419\n",
       "AG        19       0  0.473684\n",
       "CF        72       1  0.597222\n",
       "EBD      110       1  0.745455"
      ]
     },
     "execution_count": 45,
     "metadata": {},
     "output_type": "execute_result"
    }
   ],
   "source": [
    "# check results\n",
    "\n",
    "train_data.groupby(by='Cabin')['Survived'].agg([np.ma.count, np.median, np.mean]).sort_values(by='mean')"
   ]
  },
  {
   "cell_type": "code",
   "execution_count": 46,
   "metadata": {},
   "outputs": [],
   "source": [
    "# bucketize 'Cabin' column data\n",
    "\n",
    "dummy = pd.get_dummies(train_data['Cabin'], prefix='Cabin', prefix_sep='_')\n",
    "cabins = list(dummy)\n",
    "\n",
    "train_data[cabins] = dummy[cabins]"
   ]
  },
  {
   "cell_type": "code",
   "execution_count": 47,
   "metadata": {},
   "outputs": [],
   "source": [
    "dummy = pd.get_dummies(test_data['Cabin'], prefix='Cabin', prefix_sep='_')\n",
    "cabins = list(dummy)\n",
    "\n",
    "test_data[cabins] = dummy[cabins]"
   ]
  },
  {
   "cell_type": "code",
   "execution_count": 48,
   "metadata": {},
   "outputs": [],
   "source": [
    "train_data.drop(columns='Cabin', inplace=True)\n",
    "test_data.drop(columns='Cabin', inplace=True)"
   ]
  },
  {
   "cell_type": "markdown",
   "metadata": {},
   "source": [
    "### Fare"
   ]
  },
  {
   "cell_type": "code",
   "execution_count": 49,
   "metadata": {},
   "outputs": [],
   "source": [
    "# bucketize 'Fare' column data according to specified ranges\n",
    "\n",
    "LOW = 7\n",
    "MID = 15\n",
    "HIGH = 80\n",
    "\n",
    "train_data['Fare'] = train_data.apply(lambda x: 'LOW' if x.Fare < LOW else x.Fare, axis=1)\n",
    "train_data['Fare'] = train_data.apply(lambda x: 'MID_LOW' if isinstance(x.Fare, np.number) and x.Fare >= LOW and x.Fare < MID else x.Fare, axis=1)\n",
    "train_data['Fare'] = train_data.apply(lambda x: 'MID_HIGH' if isinstance(x.Fare, np.number) and x.Fare >= MID and x.Fare < HIGH else x.Fare, axis=1)\n",
    "train_data['Fare'] = train_data.apply(lambda x: 'HIGH' if isinstance(x.Fare, np.number) and x.Fare >= HIGH else x.Fare, axis=1)\n",
    "\n",
    "test_data['Fare'] = test_data.apply(lambda x: 'LOW' if x.Fare < LOW else x.Fare, axis=1)\n",
    "test_data['Fare'] = test_data.apply(lambda x: 'MID_LOW' if isinstance(x.Fare, np.number) and x.Fare >= LOW and x.Fare < MID else x.Fare, axis=1)\n",
    "test_data['Fare'] = test_data.apply(lambda x: 'MID_HIGH' if isinstance(x.Fare, np.number) and x.Fare >= MID and x.Fare < HIGH else x.Fare, axis=1)\n",
    "test_data['Fare'] = test_data.apply(lambda x: 'HIGH' if isinstance(x.Fare, np.number) and x.Fare >= HIGH else x.Fare, axis=1)"
   ]
  },
  {
   "cell_type": "code",
   "execution_count": 51,
   "metadata": {},
   "outputs": [],
   "source": [
    "dummy = pd.get_dummies(train_data['Fare'], prefix='Fare', prefix_sep='_')\n",
    "fares = list(dummy)\n",
    "\n",
    "train_data[fares] = dummy[fares]"
   ]
  },
  {
   "cell_type": "code",
   "execution_count": 52,
   "metadata": {},
   "outputs": [],
   "source": [
    "dummy = pd.get_dummies(test_data['Fare'], prefix='Fare', prefix_sep='_')\n",
    "fares = list(dummy)\n",
    "\n",
    "test_data[fares] = dummy[fares]"
   ]
  },
  {
   "cell_type": "code",
   "execution_count": 53,
   "metadata": {},
   "outputs": [],
   "source": [
    "train_data.drop(columns=['Fare'], inplace=True)\n",
    "test_data.drop(columns=['Fare'], inplace=True)"
   ]
  },
  {
   "cell_type": "markdown",
   "metadata": {},
   "source": [
    "### Pclass"
   ]
  },
  {
   "cell_type": "code",
   "execution_count": 54,
   "metadata": {},
   "outputs": [],
   "source": [
    "# bucketize 'Pclass' column data\n",
    "\n",
    "dummy = pd.get_dummies(train_data['Pclass'], prefix='Pclass', prefix_sep='_')\n",
    "_class = list(dummy)\n",
    "\n",
    "train_data[_class] = dummy[_class]"
   ]
  },
  {
   "cell_type": "code",
   "execution_count": 55,
   "metadata": {},
   "outputs": [],
   "source": [
    "dummy = pd.get_dummies(test_data['Pclass'], prefix='Pclass', prefix_sep='_')\n",
    "_class = list(dummy)\n",
    "\n",
    "test_data[_class] = dummy[_class]"
   ]
  },
  {
   "cell_type": "code",
   "execution_count": 56,
   "metadata": {},
   "outputs": [],
   "source": [
    "train_data.drop(columns=['Pclass'], inplace=True)\n",
    "test_data.drop(columns=['Pclass'], inplace=True)"
   ]
  },
  {
   "cell_type": "code",
   "execution_count": 57,
   "metadata": {},
   "outputs": [],
   "source": [
    "# drop 'Young' column since we don't need it anymore\n",
    "\n",
    "train_data.drop(columns=['Young'], inplace=True)\n",
    "test_data.drop(columns=['Young'], inplace=True)"
   ]
  },
  {
   "cell_type": "markdown",
   "metadata": {},
   "source": [
    "### Parch"
   ]
  },
  {
   "cell_type": "code",
   "execution_count": 58,
   "metadata": {},
   "outputs": [],
   "source": [
    "dummy = pd.get_dummies(train_data['Parch'], prefix='Parch', prefix_sep='_')\n",
    "parch = list(dummy)\n",
    "train_data[parch] = dummy[parch]\n",
    "train_data.drop(columns=['Parch'], inplace=True)\n",
    "\n",
    "dummy = pd.get_dummies(test_data['Parch'], prefix='Parch', prefix_sep='_')\n",
    "parch = list(dummy)\n",
    "test_data[parch] = dummy[parch]\n",
    "test_data.drop(columns=['Parch'], inplace=True)"
   ]
  },
  {
   "cell_type": "markdown",
   "metadata": {},
   "source": [
    "### SibSp"
   ]
  },
  {
   "cell_type": "code",
   "execution_count": 59,
   "metadata": {},
   "outputs": [],
   "source": [
    "dummy = pd.get_dummies(train_data['SibSp'], prefix='SibSp', prefix_sep='_')\n",
    "sibsp = list(dummy)\n",
    "train_data[sibsp] = dummy[sibsp]\n",
    "train_data.drop(columns=['SibSp'], inplace=True)\n",
    "\n",
    "dummy = pd.get_dummies(test_data['SibSp'], prefix='SibSp', prefix_sep='_')\n",
    "sibsp = list(dummy)\n",
    "test_data[sibsp] = dummy[sibsp]\n",
    "test_data.drop(columns=['SibSp'], inplace=True)"
   ]
  },
  {
   "cell_type": "markdown",
   "metadata": {},
   "source": [
    "## Check resulting dataframe"
   ]
  },
  {
   "cell_type": "code",
   "execution_count": 60,
   "metadata": {},
   "outputs": [
    {
     "name": "stdout",
     "output_type": "stream",
     "text": [
      "{'Parch_9', 'Survived'}\n"
     ]
    }
   ],
   "source": [
    "# check if train and test data column lists are identical\n",
    "# drop unique columns\n",
    "\n",
    "train_col = []\n",
    "\n",
    "for col in train_data:\n",
    "    train_col.append(col)\n",
    "    \n",
    "test_col = []\n",
    "\n",
    "for col in test_data:\n",
    "    test_col.append(col)\n",
    "    \n",
    "print(set(train_col) ^ set(test_col))"
   ]
  },
  {
   "cell_type": "code",
   "execution_count": 61,
   "metadata": {},
   "outputs": [],
   "source": [
    "# drop unwanted columns\n",
    "\n",
    "test_data.drop(columns='Parch_9', inplace=True)"
   ]
  },
  {
   "cell_type": "code",
   "execution_count": 62,
   "metadata": {},
   "outputs": [
    {
     "data": {
      "text/html": [
       "<div>\n",
       "<style scoped>\n",
       "    .dataframe tbody tr th:only-of-type {\n",
       "        vertical-align: middle;\n",
       "    }\n",
       "\n",
       "    .dataframe tbody tr th {\n",
       "        vertical-align: top;\n",
       "    }\n",
       "\n",
       "    .dataframe thead th {\n",
       "        text-align: right;\n",
       "    }\n",
       "</style>\n",
       "<table border=\"1\" class=\"dataframe\">\n",
       "  <thead>\n",
       "    <tr style=\"text-align: right;\">\n",
       "      <th></th>\n",
       "      <th>Survived</th>\n",
       "      <th>Sex</th>\n",
       "      <th>Married_female</th>\n",
       "      <th>Married_male</th>\n",
       "      <th>Age_HIGH</th>\n",
       "      <th>Age_LOW</th>\n",
       "      <th>Age_MID</th>\n",
       "      <th>Ticket_A</th>\n",
       "      <th>Ticket_F</th>\n",
       "      <th>Ticket_L</th>\n",
       "      <th>...</th>\n",
       "      <th>Parch_4</th>\n",
       "      <th>Parch_5</th>\n",
       "      <th>Parch_6</th>\n",
       "      <th>SibSp_0</th>\n",
       "      <th>SibSp_1</th>\n",
       "      <th>SibSp_2</th>\n",
       "      <th>SibSp_3</th>\n",
       "      <th>SibSp_4</th>\n",
       "      <th>SibSp_5</th>\n",
       "      <th>SibSp_8</th>\n",
       "    </tr>\n",
       "  </thead>\n",
       "  <tbody>\n",
       "    <tr>\n",
       "      <th>0</th>\n",
       "      <td>0</td>\n",
       "      <td>0</td>\n",
       "      <td>0</td>\n",
       "      <td>0</td>\n",
       "      <td>0</td>\n",
       "      <td>0</td>\n",
       "      <td>1</td>\n",
       "      <td>1</td>\n",
       "      <td>0</td>\n",
       "      <td>0</td>\n",
       "      <td>...</td>\n",
       "      <td>0</td>\n",
       "      <td>0</td>\n",
       "      <td>0</td>\n",
       "      <td>0</td>\n",
       "      <td>1</td>\n",
       "      <td>0</td>\n",
       "      <td>0</td>\n",
       "      <td>0</td>\n",
       "      <td>0</td>\n",
       "      <td>0</td>\n",
       "    </tr>\n",
       "    <tr>\n",
       "      <th>1</th>\n",
       "      <td>1</td>\n",
       "      <td>1</td>\n",
       "      <td>1</td>\n",
       "      <td>0</td>\n",
       "      <td>0</td>\n",
       "      <td>0</td>\n",
       "      <td>1</td>\n",
       "      <td>0</td>\n",
       "      <td>0</td>\n",
       "      <td>0</td>\n",
       "      <td>...</td>\n",
       "      <td>0</td>\n",
       "      <td>0</td>\n",
       "      <td>0</td>\n",
       "      <td>0</td>\n",
       "      <td>1</td>\n",
       "      <td>0</td>\n",
       "      <td>0</td>\n",
       "      <td>0</td>\n",
       "      <td>0</td>\n",
       "      <td>0</td>\n",
       "    </tr>\n",
       "    <tr>\n",
       "      <th>2</th>\n",
       "      <td>1</td>\n",
       "      <td>1</td>\n",
       "      <td>0</td>\n",
       "      <td>0</td>\n",
       "      <td>0</td>\n",
       "      <td>0</td>\n",
       "      <td>1</td>\n",
       "      <td>0</td>\n",
       "      <td>0</td>\n",
       "      <td>0</td>\n",
       "      <td>...</td>\n",
       "      <td>0</td>\n",
       "      <td>0</td>\n",
       "      <td>0</td>\n",
       "      <td>1</td>\n",
       "      <td>0</td>\n",
       "      <td>0</td>\n",
       "      <td>0</td>\n",
       "      <td>0</td>\n",
       "      <td>0</td>\n",
       "      <td>0</td>\n",
       "    </tr>\n",
       "    <tr>\n",
       "      <th>3</th>\n",
       "      <td>1</td>\n",
       "      <td>1</td>\n",
       "      <td>1</td>\n",
       "      <td>0</td>\n",
       "      <td>0</td>\n",
       "      <td>0</td>\n",
       "      <td>1</td>\n",
       "      <td>0</td>\n",
       "      <td>0</td>\n",
       "      <td>0</td>\n",
       "      <td>...</td>\n",
       "      <td>0</td>\n",
       "      <td>0</td>\n",
       "      <td>0</td>\n",
       "      <td>0</td>\n",
       "      <td>1</td>\n",
       "      <td>0</td>\n",
       "      <td>0</td>\n",
       "      <td>0</td>\n",
       "      <td>0</td>\n",
       "      <td>0</td>\n",
       "    </tr>\n",
       "    <tr>\n",
       "      <th>4</th>\n",
       "      <td>0</td>\n",
       "      <td>0</td>\n",
       "      <td>0</td>\n",
       "      <td>0</td>\n",
       "      <td>0</td>\n",
       "      <td>0</td>\n",
       "      <td>1</td>\n",
       "      <td>0</td>\n",
       "      <td>0</td>\n",
       "      <td>0</td>\n",
       "      <td>...</td>\n",
       "      <td>0</td>\n",
       "      <td>0</td>\n",
       "      <td>0</td>\n",
       "      <td>1</td>\n",
       "      <td>0</td>\n",
       "      <td>0</td>\n",
       "      <td>0</td>\n",
       "      <td>0</td>\n",
       "      <td>0</td>\n",
       "      <td>0</td>\n",
       "    </tr>\n",
       "    <tr>\n",
       "      <th>5</th>\n",
       "      <td>0</td>\n",
       "      <td>0</td>\n",
       "      <td>0</td>\n",
       "      <td>0</td>\n",
       "      <td>0</td>\n",
       "      <td>0</td>\n",
       "      <td>1</td>\n",
       "      <td>0</td>\n",
       "      <td>0</td>\n",
       "      <td>0</td>\n",
       "      <td>...</td>\n",
       "      <td>0</td>\n",
       "      <td>0</td>\n",
       "      <td>0</td>\n",
       "      <td>1</td>\n",
       "      <td>0</td>\n",
       "      <td>0</td>\n",
       "      <td>0</td>\n",
       "      <td>0</td>\n",
       "      <td>0</td>\n",
       "      <td>0</td>\n",
       "    </tr>\n",
       "    <tr>\n",
       "      <th>6</th>\n",
       "      <td>0</td>\n",
       "      <td>0</td>\n",
       "      <td>0</td>\n",
       "      <td>0</td>\n",
       "      <td>0</td>\n",
       "      <td>0</td>\n",
       "      <td>1</td>\n",
       "      <td>0</td>\n",
       "      <td>0</td>\n",
       "      <td>0</td>\n",
       "      <td>...</td>\n",
       "      <td>0</td>\n",
       "      <td>0</td>\n",
       "      <td>0</td>\n",
       "      <td>1</td>\n",
       "      <td>0</td>\n",
       "      <td>0</td>\n",
       "      <td>0</td>\n",
       "      <td>0</td>\n",
       "      <td>0</td>\n",
       "      <td>0</td>\n",
       "    </tr>\n",
       "    <tr>\n",
       "      <th>7</th>\n",
       "      <td>0</td>\n",
       "      <td>0</td>\n",
       "      <td>0</td>\n",
       "      <td>0</td>\n",
       "      <td>0</td>\n",
       "      <td>1</td>\n",
       "      <td>0</td>\n",
       "      <td>0</td>\n",
       "      <td>0</td>\n",
       "      <td>0</td>\n",
       "      <td>...</td>\n",
       "      <td>0</td>\n",
       "      <td>0</td>\n",
       "      <td>0</td>\n",
       "      <td>0</td>\n",
       "      <td>0</td>\n",
       "      <td>0</td>\n",
       "      <td>1</td>\n",
       "      <td>0</td>\n",
       "      <td>0</td>\n",
       "      <td>0</td>\n",
       "    </tr>\n",
       "    <tr>\n",
       "      <th>8</th>\n",
       "      <td>1</td>\n",
       "      <td>1</td>\n",
       "      <td>1</td>\n",
       "      <td>0</td>\n",
       "      <td>0</td>\n",
       "      <td>0</td>\n",
       "      <td>1</td>\n",
       "      <td>0</td>\n",
       "      <td>0</td>\n",
       "      <td>0</td>\n",
       "      <td>...</td>\n",
       "      <td>0</td>\n",
       "      <td>0</td>\n",
       "      <td>0</td>\n",
       "      <td>1</td>\n",
       "      <td>0</td>\n",
       "      <td>0</td>\n",
       "      <td>0</td>\n",
       "      <td>0</td>\n",
       "      <td>0</td>\n",
       "      <td>0</td>\n",
       "    </tr>\n",
       "    <tr>\n",
       "      <th>9</th>\n",
       "      <td>1</td>\n",
       "      <td>1</td>\n",
       "      <td>1</td>\n",
       "      <td>0</td>\n",
       "      <td>0</td>\n",
       "      <td>0</td>\n",
       "      <td>1</td>\n",
       "      <td>0</td>\n",
       "      <td>0</td>\n",
       "      <td>0</td>\n",
       "      <td>...</td>\n",
       "      <td>0</td>\n",
       "      <td>0</td>\n",
       "      <td>0</td>\n",
       "      <td>0</td>\n",
       "      <td>1</td>\n",
       "      <td>0</td>\n",
       "      <td>0</td>\n",
       "      <td>0</td>\n",
       "      <td>0</td>\n",
       "      <td>0</td>\n",
       "    </tr>\n",
       "  </tbody>\n",
       "</table>\n",
       "<p>10 rows × 41 columns</p>\n",
       "</div>"
      ],
      "text/plain": [
       "   Survived  Sex  Married_female  Married_male  Age_HIGH  Age_LOW  Age_MID  \\\n",
       "0         0    0               0             0         0        0        1   \n",
       "1         1    1               1             0         0        0        1   \n",
       "2         1    1               0             0         0        0        1   \n",
       "3         1    1               1             0         0        0        1   \n",
       "4         0    0               0             0         0        0        1   \n",
       "5         0    0               0             0         0        0        1   \n",
       "6         0    0               0             0         0        0        1   \n",
       "7         0    0               0             0         0        1        0   \n",
       "8         1    1               1             0         0        0        1   \n",
       "9         1    1               1             0         0        0        1   \n",
       "\n",
       "   Ticket_A  Ticket_F  Ticket_L   ...     Parch_4  Parch_5  Parch_6  SibSp_0  \\\n",
       "0         1         0         0   ...           0        0        0        0   \n",
       "1         0         0         0   ...           0        0        0        0   \n",
       "2         0         0         0   ...           0        0        0        1   \n",
       "3         0         0         0   ...           0        0        0        0   \n",
       "4         0         0         0   ...           0        0        0        1   \n",
       "5         0         0         0   ...           0        0        0        1   \n",
       "6         0         0         0   ...           0        0        0        1   \n",
       "7         0         0         0   ...           0        0        0        0   \n",
       "8         0         0         0   ...           0        0        0        1   \n",
       "9         0         0         0   ...           0        0        0        0   \n",
       "\n",
       "   SibSp_1  SibSp_2  SibSp_3  SibSp_4  SibSp_5  SibSp_8  \n",
       "0        1        0        0        0        0        0  \n",
       "1        1        0        0        0        0        0  \n",
       "2        0        0        0        0        0        0  \n",
       "3        1        0        0        0        0        0  \n",
       "4        0        0        0        0        0        0  \n",
       "5        0        0        0        0        0        0  \n",
       "6        0        0        0        0        0        0  \n",
       "7        0        0        1        0        0        0  \n",
       "8        0        0        0        0        0        0  \n",
       "9        1        0        0        0        0        0  \n",
       "\n",
       "[10 rows x 41 columns]"
      ]
     },
     "execution_count": 62,
     "metadata": {},
     "output_type": "execute_result"
    }
   ],
   "source": [
    "train_data.head(10)"
   ]
  },
  {
   "cell_type": "markdown",
   "metadata": {},
   "source": [
    "## Create numpy data"
   ]
  },
  {
   "cell_type": "code",
   "execution_count": 63,
   "metadata": {},
   "outputs": [],
   "source": [
    "# get list of feature columns\n",
    "\n",
    "TRAIN_COL = list(train_data.drop(columns='Survived'))"
   ]
  },
  {
   "cell_type": "code",
   "execution_count": 64,
   "metadata": {},
   "outputs": [],
   "source": [
    "# create train, validation and test numpy data\n",
    "\n",
    "SIZE = 700\n",
    "\n",
    "train_examples = np.asarray(train_data[TRAIN_COL].iloc[:SIZE,:], dtype=np.float32)\n",
    "train_labels = np.asarray(train_data['Survived'][:SIZE], dtype=np.int32)\n",
    "validate_examples = np.asarray(train_data[TRAIN_COL].iloc[SIZE:,:], dtype=np.float32)\n",
    "validate_labels = np.asarray(train_data['Survived'][SIZE:], dtype=np.int32)\n",
    "test_examples = np.asarray(test_data[TRAIN_COL], dtype=np.float32)"
   ]
  },
  {
   "cell_type": "markdown",
   "metadata": {},
   "source": [
    "## Model input functions"
   ]
  },
  {
   "cell_type": "code",
   "execution_count": 65,
   "metadata": {},
   "outputs": [],
   "source": [
    "# create input functions\n",
    "\n",
    "train_input_fn = tf.estimator.inputs.numpy_input_fn(\n",
    "    x={'x': train_examples},\n",
    "    y=train_labels,\n",
    "    batch_size=5,\n",
    "    num_epochs=1,\n",
    "    shuffle=True)\n",
    "\n",
    "eval_input_fn = tf.estimator.inputs.numpy_input_fn(\n",
    "    x={'x': train_examples},\n",
    "    y=train_labels,\n",
    "    num_epochs=1,\n",
    "    shuffle=False)\n",
    "\n",
    "validate_input_fn = tf.estimator.inputs.numpy_input_fn(\n",
    "    x={'x': validate_examples},\n",
    "    y=validate_labels,\n",
    "    num_epochs=1,\n",
    "    shuffle=False)\n",
    "\n",
    "predict_input_fn = tf.estimator.inputs.numpy_input_fn(\n",
    "    x={'x': test_examples},\n",
    "    num_epochs=1,\n",
    "    shuffle=False)"
   ]
  },
  {
   "cell_type": "markdown",
   "metadata": {},
   "source": [
    "## DNN classifier"
   ]
  },
  {
   "cell_type": "code",
   "execution_count": 66,
   "metadata": {},
   "outputs": [],
   "source": [
    "def dnn_model_fn(features, labels, mode):\n",
    "    \n",
    "    reshape_layer_1 = tf.reshape(features['x'], [-1, features['x'].shape[1]])\n",
    "    \n",
    "    dense_layer_1 = tf.layers.dense(\n",
    "        inputs=reshape_layer_1,\n",
    "        units=100,\n",
    "        activation=tf.nn.relu)\n",
    "    \n",
    "    dropout_layer_1 = tf.layers.dropout(\n",
    "        inputs=dense_layer_1,\n",
    "        rate=0.4,\n",
    "        training=(mode == tf.estimator.ModeKeys.TRAIN))\n",
    "    \n",
    "    dense_layer_2 = tf.layers.dense(\n",
    "        inputs=dropout_layer_1,\n",
    "        units=100,\n",
    "        activation=tf.nn.relu)\n",
    "    \n",
    "    logits_layer = tf.layers.dense(\n",
    "        inputs=dense_layer_2,\n",
    "        units=2)\n",
    "    \n",
    "    predictions = {'classes':tf.argmax(input=logits_layer, axis=1)}\n",
    "    \n",
    "    if mode == tf.estimator.ModeKeys.PREDICT:\n",
    "        return tf.estimator.EstimatorSpec(mode=mode, predictions=predictions)\n",
    "    \n",
    "    loss = tf.losses.sparse_softmax_cross_entropy(\n",
    "        labels=labels,\n",
    "        logits=logits_layer)\n",
    "    \n",
    "    accuracy = tf.metrics.accuracy(\n",
    "        labels=labels,\n",
    "        predictions = predictions['classes'],\n",
    "        name='accu_op')\n",
    "    \n",
    "    tf.summary.histogram('accuracy', accuracy[1])\n",
    "    \n",
    "    if mode == tf.estimator.ModeKeys.TRAIN:\n",
    "        train_optimizer = tf.train.AdamOptimizer(learning_rate=0.001).minimize(\n",
    "            loss=loss,\n",
    "            global_step=tf.train.get_global_step())\n",
    "        return tf.estimator.EstimatorSpec(mode=mode, loss=loss, train_op=train_optimizer)\n",
    "    \n",
    "    # mode = EVAL\n",
    "    eval_metric_ops = {'accuracy':accuracy}\n",
    "    \n",
    "    return tf.estimator.EstimatorSpec(mode=mode, loss=loss, eval_metric_ops = eval_metric_ops)"
   ]
  },
  {
   "cell_type": "markdown",
   "metadata": {},
   "source": [
    "## Configure estimator"
   ]
  },
  {
   "cell_type": "code",
   "execution_count": 67,
   "metadata": {},
   "outputs": [],
   "source": [
    "OUTDIR = './titanic_train_data'\n",
    "\n",
    "dnn_classifier = tf.estimator.Estimator(model_fn=dnn_model_fn, model_dir=OUTDIR)\n",
    "\n",
    "# call method to write train data to OUTDIR\n",
    "#file_writer = tf.summary.FileWriter(OUTDIR)"
   ]
  },
  {
   "cell_type": "markdown",
   "metadata": {},
   "source": [
    "## Train function"
   ]
  },
  {
   "cell_type": "code",
   "execution_count": 68,
   "metadata": {},
   "outputs": [],
   "source": [
    "def train_and_evaluate(estimator, epochs=1, global_steps=1, train_steps=100):\n",
    "    \n",
    "    all_train_log = []\n",
    "    all_validate_log = []\n",
    "    \n",
    "    for _ in range(epochs):\n",
    "\n",
    "        for i in range(1, global_steps + 1, 1):\n",
    "\n",
    "            estimator.train(input_fn=train_input_fn, steps=train_steps)\n",
    "\n",
    "            train_log = estimator.evaluate(input_fn=eval_input_fn)\n",
    "            print('STEP: {} of {}'.format(i, global_steps))\n",
    "            print('TRAIN: acc={:.8f}\\tloss={:.8f}'.format(train_log['accuracy'], train_log['loss']))\n",
    "\n",
    "            validate_log = estimator.evaluate(input_fn=validate_input_fn)\n",
    "            print('VALID: acc={:.8f}\\tloss={:.8f}'.format(validate_log['accuracy'], validate_log['loss']))\n",
    "\n",
    "            all_train_log.append(train_log)\n",
    "            all_validate_log.append(validate_log)\n",
    "            \n",
    "    return all_train_log, all_validate_log"
   ]
  },
  {
   "cell_type": "markdown",
   "metadata": {},
   "source": [
    "## Train"
   ]
  },
  {
   "cell_type": "code",
   "execution_count": 69,
   "metadata": {
    "scrolled": true
   },
   "outputs": [
    {
     "name": "stdout",
     "output_type": "stream",
     "text": [
      "STEP: 1 of 3\n",
      "TRAIN: acc=0.80000001\tloss=0.48592484\n",
      "VALID: acc=0.79365081\tloss=0.42578554\n",
      "STEP: 2 of 3\n",
      "TRAIN: acc=0.82142860\tloss=0.44168225\n",
      "VALID: acc=0.82539684\tloss=0.38570279\n",
      "STEP: 3 of 3\n",
      "TRAIN: acc=0.81428570\tloss=0.42970338\n",
      "VALID: acc=0.83068782\tloss=0.38360071\n"
     ]
    }
   ],
   "source": [
    "GLOBAL_STEPS = 3\n",
    "TRAIN_STEPS = 700\n",
    "\n",
    "train_log, validate_log = train_and_evaluate(\n",
    "    dnn_classifier,\n",
    "    global_steps=GLOBAL_STEPS,\n",
    "    train_steps=TRAIN_STEPS)"
   ]
  },
  {
   "cell_type": "markdown",
   "metadata": {},
   "source": [
    "## Plot loss and acc"
   ]
  },
  {
   "cell_type": "code",
   "execution_count": 70,
   "metadata": {},
   "outputs": [],
   "source": [
    "train_acc = [i['accuracy'] for i in train_log]\n",
    "valid_acc = [i['accuracy'] for i in validate_log]\n",
    "\n",
    "train_loss = [i['loss'] for i in train_log]\n",
    "valid_loss = [i['loss'] for i in validate_log]"
   ]
  },
  {
   "cell_type": "code",
   "execution_count": 74,
   "metadata": {
    "scrolled": false
   },
   "outputs": [
    {
     "data": {
      "image/png": "[encoded data removed]",
      "text/plain": [
       "<Figure size 864x144 with 1 Axes>"
      ]
     },
     "metadata": {},
     "output_type": "display_data"
    }
   ],
   "source": [
    "plt.figure(figsize=(12, 2))\n",
    "plt.plot(train_acc)\n",
    "plt.plot(valid_acc)\n",
    "plt.ylabel('Accuracy', fontsize=12)\n",
    "plt.xlabel('Steps', fontsize=12)\n",
    "plt.legend(['Train acc', 'Validation acc'], fontsize=10, loc='upper left')\n",
    "plt.show()"
   ]
  },
  {
   "cell_type": "code",
   "execution_count": 75,
   "metadata": {},
   "outputs": [
    {
     "data": {
      "image/png": "[encoded data removed]",
      "text/plain": [
       "<Figure size 864x144 with 1 Axes>"
      ]
     },
     "metadata": {},
     "output_type": "display_data"
    }
   ],
   "source": [
    "plt.figure(figsize=(12, 2))\n",
    "plt.plot(train_loss)\n",
    "plt.plot(valid_loss)\n",
    "plt.ylabel('Loss', fontsize=12)\n",
    "plt.xlabel('Steps', fontsize=12)\n",
    "plt.legend(['Train loss', 'Validation los'], fontsize=10, loc='upper left')\n",
    "plt.show()"
   ]
  },
  {
   "cell_type": "markdown",
   "metadata": {},
   "source": [
    "## Create submission file"
   ]
  },
  {
   "cell_type": "code",
   "execution_count": 76,
   "metadata": {},
   "outputs": [
    {
     "name": "stdout",
     "output_type": "stream",
     "text": [
      "Saved predictions to  submission_titanic.csv\n"
     ]
    }
   ],
   "source": [
    "# create kaggle submission file\n",
    "# in predict mode model returns generator\n",
    "predict_generator = dnn_classifier.predict(input_fn=predict_input_fn)\n",
    "\n",
    "# create list of dict like {class:class, probability:probability}\n",
    "predict_dictlist = [next(predict_generator) for i in range(len(test_examples))]\n",
    "\n",
    "# for kaggle we need only classes\n",
    "classes = [predict_dictlist[item]['classes'] for item in range(len(predict_dictlist))]\n",
    "\n",
    "# function to create pandas df\n",
    "def create_mnist_submission_df(class_predictions, file_name):\n",
    "    submission_df = pd.DataFrame()\n",
    "    submission_df['PassengerId'] = pd.read_csv('test.csv')['PassengerId']\n",
    "    submission_df['Survived'] = class_predictions\n",
    "    submission_df.set_index('PassengerId', inplace=True)\n",
    "    submission_df.to_csv(file_name)\n",
    "    print('Saved predictions to ', file_name)\n",
    "\n",
    "create_mnist_submission_df(classes, 'submission_titanic.csv')"
   ]
  },
  {
   "cell_type": "code",
   "execution_count": null,
   "metadata": {},
   "outputs": [],
   "source": []
  }
 ],
 "metadata": {
  "kernelspec": {
   "display_name": "Python 3",
   "language": "python",
   "name": "python3"
  },
  "language_info": {
   "codemirror_mode": {
    "name": "ipython",
    "version": 3
   },
   "file_extension": ".py",
   "mimetype": "text/x-python",
   "name": "python",
   "nbconvert_exporter": "python",
   "pygments_lexer": "ipython3",
   "version": "3.6.6"
  }
 },
 "nbformat": 4,
 "nbformat_minor": 2
}
